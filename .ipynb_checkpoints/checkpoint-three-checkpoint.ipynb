{
 "cells": [
  {
   "cell_type": "markdown",
   "metadata": {
    "azdata_cell_guid": "26037d32-2047-4157-81ef-595916bd66a0"
   },
   "source": [
    "# Checkpoint Three: Cleaning Data\n",
    "\n",
    "Now you are ready to clean your data. Before starting coding, provide the link to your dataset below.\n",
    "\n",
    "My dataset:\n",
    "\n",
    "Import the necessary libraries and create your dataframe(s)."
   ]
  },
  {
   "cell_type": "code",
   "execution_count": 1,
   "metadata": {
    "azdata_cell_guid": "e8adef8e-d0f2-4640-a179-5997f11e82ca"
   },
   "outputs": [],
   "source": [
    "#importing all the libraries necessary for EDA and data visualization later down the road\n",
    "import pandas as pd\n",
    "import numpy as np\n",
    "import seaborn as sns\n",
    "import matplotlib.pyplot as plt\n",
    "from matplotlib import style\n",
    "\n",
    "df = pd.read_csv(\"goodreads_data.csv\")"
   ]
  },
  {
   "cell_type": "code",
   "execution_count": 2,
   "metadata": {},
   "outputs": [
    {
     "data": {
      "text/html": [
       "<div>\n",
       "<style scoped>\n",
       "    .dataframe tbody tr th:only-of-type {\n",
       "        vertical-align: middle;\n",
       "    }\n",
       "\n",
       "    .dataframe tbody tr th {\n",
       "        vertical-align: top;\n",
       "    }\n",
       "\n",
       "    .dataframe thead th {\n",
       "        text-align: right;\n",
       "    }\n",
       "</style>\n",
       "<table border=\"1\" class=\"dataframe\">\n",
       "  <thead>\n",
       "    <tr style=\"text-align: right;\">\n",
       "      <th></th>\n",
       "      <th>Unnamed: 0</th>\n",
       "      <th>Book</th>\n",
       "      <th>Author</th>\n",
       "      <th>Description</th>\n",
       "      <th>Genres</th>\n",
       "      <th>Avg_Rating</th>\n",
       "      <th>Num_Ratings</th>\n",
       "      <th>URL</th>\n",
       "    </tr>\n",
       "  </thead>\n",
       "  <tbody>\n",
       "    <tr>\n",
       "      <th>31</th>\n",
       "      <td>31</td>\n",
       "      <td>Gone with the Wind</td>\n",
       "      <td>Margaret Mitchell</td>\n",
       "      <td>Scarlett O'Hara, the beautiful, spoiled daught...</td>\n",
       "      <td>['Classics', 'Historical Fiction', 'Fiction', ...</td>\n",
       "      <td>4.30</td>\n",
       "      <td>1,179,002</td>\n",
       "      <td>https://www.goodreads.com/book/show/18405.Gone...</td>\n",
       "    </tr>\n",
       "    <tr>\n",
       "      <th>9932</th>\n",
       "      <td>9932</td>\n",
       "      <td>Racism</td>\n",
       "      <td>Albert Memmi</td>\n",
       "      <td>It is social, not \"natural,\" it is general, n...</td>\n",
       "      <td>['Sociology', 'Race', 'Philosophy', 'Nonfictio...</td>\n",
       "      <td>4.33</td>\n",
       "      <td>92</td>\n",
       "      <td>https://www.goodreads.com/book/show/565510.Racism</td>\n",
       "    </tr>\n",
       "    <tr>\n",
       "      <th>8142</th>\n",
       "      <td>8142</td>\n",
       "      <td>The Family</td>\n",
       "      <td>Mario Puzo</td>\n",
       "      <td>Mario Puzo first answered the question 'What i...</td>\n",
       "      <td>['Historical Fiction', 'Fiction', 'Historical'...</td>\n",
       "      <td>3.83</td>\n",
       "      <td>12,944</td>\n",
       "      <td>https://www.goodreads.com/book/show/274942.The...</td>\n",
       "    </tr>\n",
       "    <tr>\n",
       "      <th>4875</th>\n",
       "      <td>4875</td>\n",
       "      <td>The Zimmermann Telegram</td>\n",
       "      <td>Barbara W. Tuchman</td>\n",
       "      <td>\\nThe Proud Tower, the Pulitzer Prize–winning ...</td>\n",
       "      <td>['History', 'Nonfiction', 'World War I', 'War'...</td>\n",
       "      <td>4.06</td>\n",
       "      <td>4,339</td>\n",
       "      <td>https://www.goodreads.com/book/show/613792.The...</td>\n",
       "    </tr>\n",
       "    <tr>\n",
       "      <th>6372</th>\n",
       "      <td>6372</td>\n",
       "      <td>The Seven Husbands of Evelyn Hugo</td>\n",
       "      <td>Taylor Jenkins Reid</td>\n",
       "      <td>Evelyn Hugo is finally ready to tell the truth...</td>\n",
       "      <td>['Fiction', 'Romance', 'Historical Fiction', '...</td>\n",
       "      <td>4.45</td>\n",
       "      <td>2,143,780</td>\n",
       "      <td>https://www.goodreads.com/book/show/33160963-t...</td>\n",
       "    </tr>\n",
       "    <tr>\n",
       "      <th>5928</th>\n",
       "      <td>5928</td>\n",
       "      <td>Finding Identity</td>\n",
       "      <td>Silenus Poetry</td>\n",
       "      <td>Finding Identity is a collection of poetry and...</td>\n",
       "      <td>['Poetry']</td>\n",
       "      <td>4.14</td>\n",
       "      <td>35</td>\n",
       "      <td>https://www.goodreads.com/book/show/49750133-f...</td>\n",
       "    </tr>\n",
       "    <tr>\n",
       "      <th>37</th>\n",
       "      <td>37</td>\n",
       "      <td>The Adventures of Huckleberry Finn</td>\n",
       "      <td>Mark Twain</td>\n",
       "      <td>A nineteenth-century boy from a Mississippi Ri...</td>\n",
       "      <td>['Classics', 'Fiction', 'Historical Fiction', ...</td>\n",
       "      <td>3.83</td>\n",
       "      <td>1,237,071</td>\n",
       "      <td>https://www.goodreads.com/book/show/2956.The_A...</td>\n",
       "    </tr>\n",
       "    <tr>\n",
       "      <th>4595</th>\n",
       "      <td>4595</td>\n",
       "      <td>Deep and Dirty: A Novel</td>\n",
       "      <td>Douglas Dell</td>\n",
       "      <td>Robert Winchester abruptly parts life as an in...</td>\n",
       "      <td>[]</td>\n",
       "      <td>4.55</td>\n",
       "      <td>11</td>\n",
       "      <td>https://www.goodreads.com/book/show/44200541-d...</td>\n",
       "    </tr>\n",
       "    <tr>\n",
       "      <th>3008</th>\n",
       "      <td>3008</td>\n",
       "      <td>Gulp: Adventures on the Alimentary Canal</td>\n",
       "      <td>Mary Roach</td>\n",
       "      <td>“America’s funniest science writer” (Washingto...</td>\n",
       "      <td>['Nonfiction', 'Science', 'Humor', 'Audiobook'...</td>\n",
       "      <td>3.93</td>\n",
       "      <td>46,661</td>\n",
       "      <td>https://www.goodreads.com/book/show/18377999-gulp</td>\n",
       "    </tr>\n",
       "    <tr>\n",
       "      <th>4643</th>\n",
       "      <td>4643</td>\n",
       "      <td>Cinema of Shadows (Harmony, Indiana, #2)</td>\n",
       "      <td>Michael  West</td>\n",
       "      <td>Welcome to the Woodfield Movie Palace. The nig...</td>\n",
       "      <td>['Horror', 'Paranormal', 'Fiction', 'Ghosts']</td>\n",
       "      <td>3.72</td>\n",
       "      <td>316</td>\n",
       "      <td>https://www.goodreads.com/book/show/12292002-c...</td>\n",
       "    </tr>\n",
       "  </tbody>\n",
       "</table>\n",
       "</div>"
      ],
      "text/plain": [
       "      Unnamed: 0                                      Book  \\\n",
       "31            31                        Gone with the Wind   \n",
       "9932        9932                                    Racism   \n",
       "8142        8142                                The Family   \n",
       "4875        4875                   The Zimmermann Telegram   \n",
       "6372        6372         The Seven Husbands of Evelyn Hugo   \n",
       "5928        5928                          Finding Identity   \n",
       "37            37        The Adventures of Huckleberry Finn   \n",
       "4595        4595                   Deep and Dirty: A Novel   \n",
       "3008        3008  Gulp: Adventures on the Alimentary Canal   \n",
       "4643        4643  Cinema of Shadows (Harmony, Indiana, #2)   \n",
       "\n",
       "                   Author                                        Description  \\\n",
       "31      Margaret Mitchell  Scarlett O'Hara, the beautiful, spoiled daught...   \n",
       "9932         Albert Memmi   It is social, not \"natural,\" it is general, n...   \n",
       "8142           Mario Puzo  Mario Puzo first answered the question 'What i...   \n",
       "4875   Barbara W. Tuchman  \\nThe Proud Tower, the Pulitzer Prize–winning ...   \n",
       "6372  Taylor Jenkins Reid  Evelyn Hugo is finally ready to tell the truth...   \n",
       "5928       Silenus Poetry  Finding Identity is a collection of poetry and...   \n",
       "37             Mark Twain  A nineteenth-century boy from a Mississippi Ri...   \n",
       "4595         Douglas Dell  Robert Winchester abruptly parts life as an in...   \n",
       "3008           Mary Roach  “America’s funniest science writer” (Washingto...   \n",
       "4643        Michael  West  Welcome to the Woodfield Movie Palace. The nig...   \n",
       "\n",
       "                                                 Genres  Avg_Rating  \\\n",
       "31    ['Classics', 'Historical Fiction', 'Fiction', ...        4.30   \n",
       "9932  ['Sociology', 'Race', 'Philosophy', 'Nonfictio...        4.33   \n",
       "8142  ['Historical Fiction', 'Fiction', 'Historical'...        3.83   \n",
       "4875  ['History', 'Nonfiction', 'World War I', 'War'...        4.06   \n",
       "6372  ['Fiction', 'Romance', 'Historical Fiction', '...        4.45   \n",
       "5928                                         ['Poetry']        4.14   \n",
       "37    ['Classics', 'Fiction', 'Historical Fiction', ...        3.83   \n",
       "4595                                                 []        4.55   \n",
       "3008  ['Nonfiction', 'Science', 'Humor', 'Audiobook'...        3.93   \n",
       "4643      ['Horror', 'Paranormal', 'Fiction', 'Ghosts']        3.72   \n",
       "\n",
       "     Num_Ratings                                                URL  \n",
       "31     1,179,002  https://www.goodreads.com/book/show/18405.Gone...  \n",
       "9932          92  https://www.goodreads.com/book/show/565510.Racism  \n",
       "8142      12,944  https://www.goodreads.com/book/show/274942.The...  \n",
       "4875       4,339  https://www.goodreads.com/book/show/613792.The...  \n",
       "6372   2,143,780  https://www.goodreads.com/book/show/33160963-t...  \n",
       "5928          35  https://www.goodreads.com/book/show/49750133-f...  \n",
       "37     1,237,071  https://www.goodreads.com/book/show/2956.The_A...  \n",
       "4595          11  https://www.goodreads.com/book/show/44200541-d...  \n",
       "3008      46,661  https://www.goodreads.com/book/show/18377999-gulp  \n",
       "4643         316  https://www.goodreads.com/book/show/12292002-c...  "
      ]
     },
     "execution_count": 2,
     "metadata": {},
     "output_type": "execute_result"
    }
   ],
   "source": [
    "df.sample(10)"
   ]
  },
  {
   "cell_type": "markdown",
   "metadata": {
    "azdata_cell_guid": "e172475a-c4ee-414a-8367-9965355dbba6"
   },
   "source": [
    "## Missing Data\n",
    "\n",
    "Test your dataset for missing data and handle it as needed. Make notes in the form of code comments as to your thought process."
   ]
  },
  {
   "cell_type": "code",
   "execution_count": 3,
   "metadata": {
    "scrolled": true
   },
   "outputs": [
    {
     "data": {
      "text/plain": [
       "[]                                                                                            960\n",
       "['Fiction']                                                                                    49\n",
       "['Fantasy']                                                                                    42\n",
       "['Nonfiction']                                                                                 24\n",
       "['Romance']                                                                                    20\n",
       "['Poetry']                                                                                     18\n",
       "['Horror']                                                                                     15\n",
       "['Thriller', 'Fiction', 'Mystery', 'Crime', 'Action', 'Suspense', 'Mystery Thriller']          11\n",
       "['Fiction', 'Young Adult', 'Childrens', 'Middle Grade', 'Fantasy', 'Mystery', 'Adventure']     11\n",
       "['Self Help']                                                                                   9\n",
       "Name: Genres, dtype: int64"
      ]
     },
     "execution_count": 3,
     "metadata": {},
     "output_type": "execute_result"
    }
   ],
   "source": [
    "# know that the Genre column needs some cleaning:\n",
    "genre_count = df['Genres'].value_counts().head(10)\n",
    "genre_count"
   ]
  },
  {
   "cell_type": "code",
   "execution_count": 4,
   "metadata": {
    "scrolled": true
   },
   "outputs": [],
   "source": [
    "# replace null value '[]' with NaN\n",
    "df['Genres']=df[\"Genres\"].replace('[]',np.NaN)"
   ]
  },
  {
   "cell_type": "code",
   "execution_count": 5,
   "metadata": {
    "scrolled": false
   },
   "outputs": [
    {
     "data": {
      "text/plain": [
       "['Fiction']                                                                                   49\n",
       "['Fantasy']                                                                                   42\n",
       "['Nonfiction']                                                                                24\n",
       "['Romance']                                                                                   20\n",
       "['Poetry']                                                                                    18\n",
       "['Horror']                                                                                    15\n",
       "['Thriller', 'Fiction', 'Mystery', 'Crime', 'Action', 'Suspense', 'Mystery Thriller']         11\n",
       "['Fiction', 'Young Adult', 'Childrens', 'Middle Grade', 'Fantasy', 'Mystery', 'Adventure']    11\n",
       "['Self Help']                                                                                  9\n",
       "['Young Adult']                                                                                9\n",
       "Name: Genres, dtype: int64"
      ]
     },
     "execution_count": 5,
     "metadata": {},
     "output_type": "execute_result"
    }
   ],
   "source": [
    "# see if that worked\n",
    "genre_count = df['Genres'].value_counts().head(10)\n",
    "genre_count"
   ]
  },
  {
   "cell_type": "code",
   "execution_count": 6,
   "metadata": {
    "azdata_cell_guid": "e1dc66ef-e471-4c27-92e7-ee878c106eba",
    "scrolled": true
   },
   "outputs": [
    {
     "data": {
      "text/plain": [
       "<Axes: >"
      ]
     },
     "execution_count": 6,
     "metadata": {},
     "output_type": "execute_result"
    },
    {
     "data": {
      "image/png": "[encoded data removed]",
      "text/plain": [
       "<Figure size 640x480 with 2 Axes>"
      ]
     },
     "metadata": {},
     "output_type": "display_data"
    }
   ],
   "source": [
    "# Plot a heatmap of any missing data\n",
    "cols = df.columns[:30] # first 30 columns\n",
    "colors = ['#000099', '#ffff00'] # specify the colors - yellow is missing. blue is not missing.\n",
    "sns.heatmap(df[cols].isnull(), cmap=sns.color_palette(colors))"
   ]
  },
  {
   "cell_type": "code",
   "execution_count": 7,
   "metadata": {},
   "outputs": [
    {
     "name": "stdout",
     "output_type": "stream",
     "text": [
      "Unnamed: 0 - 0%\n",
      "Book - 0%\n",
      "Author - 0%\n",
      "Description - 1%\n",
      "Genres - 10%\n",
      "Avg_Rating - 0%\n",
      "Num_Ratings - 0%\n",
      "URL - 0%\n"
     ]
    }
   ],
   "source": [
    "# Try out a missing data percentage list! \n",
    "# if it's a larger dataset and the visualization takes too long can do this.\n",
    "# % of missing.\n",
    "for col in df.columns:\n",
    "    pct_missing = np.mean(df[col].isnull())\n",
    "    print('{} - {}%'.format(col, round(pct_missing*100)))"
   ]
  },
  {
   "cell_type": "markdown",
   "metadata": {
    "azdata_cell_guid": "1233f543-e9a0-4f78-96f5-d7536554102e"
   },
   "source": [
    "## Irregular Data\n",
    "\n",
    "Detect outliers in your dataset and handle them as needed. Use code comments to make notes about your thought process."
   ]
  },
  {
   "cell_type": "code",
   "execution_count": 8,
   "metadata": {
    "azdata_cell_guid": "efed50ae-16f0-471d-98e2-632553a74c12",
    "scrolled": true
   },
   "outputs": [
    {
     "data": {
      "text/plain": [
       "<Axes: >"
      ]
     },
     "execution_count": 8,
     "metadata": {},
     "output_type": "execute_result"
    },
    {
     "data": {
      "image/png": "[encoded data removed]",
      "text/plain": [
       "<Figure size 640x480 with 1 Axes>"
      ]
     },
     "metadata": {},
     "output_type": "display_data"
    }
   ],
   "source": [
    "# Plot a histogram to see if there are any outliers.\n",
    "df[\"Avg_Rating\"].hist(bins=50)"
   ]
  },
  {
   "cell_type": "code",
   "execution_count": 9,
   "metadata": {
    "scrolled": true
   },
   "outputs": [
    {
     "data": {
      "text/plain": [
       "count    10000.000000\n",
       "mean         4.068577\n",
       "std          0.335359\n",
       "min          0.000000\n",
       "25%          3.880000\n",
       "50%          4.080000\n",
       "75%          4.260000\n",
       "max          5.000000\n",
       "Name: Avg_Rating, dtype: float64"
      ]
     },
     "execution_count": 9,
     "metadata": {},
     "output_type": "execute_result"
    }
   ],
   "source": [
    "# Use the describe() method\n",
    "df[\"Avg_Rating\"].describe()"
   ]
  },
  {
   "cell_type": "markdown",
   "metadata": {},
   "source": [
    "This means there is a book with a 0 score on average rating, which appears to be an outlier. "
   ]
  },
  {
   "cell_type": "markdown",
   "metadata": {
    "azdata_cell_guid": "6f5b8ee0-bab3-44bc-958a-67d1e4c0407f"
   },
   "source": [
    "## Unnecessary Data\n",
    "\n",
    "Look for the different types of unnecessary data in your dataset and address it as needed. Make sure to use code comments to illustrate your thought process."
   ]
  },
  {
   "cell_type": "code",
   "execution_count": 10,
   "metadata": {
    "azdata_cell_guid": "e788a239-2fbf-41de-9bd3-19e52e3b187c",
    "scrolled": false
   },
   "outputs": [
    {
     "name": "stdout",
     "output_type": "stream",
     "text": [
      "Number of duplicated rows:  (0, 8)\n"
     ]
    }
   ],
   "source": [
    "# check for duplicate rows\n",
    "duplicate_rows_df = df[df.duplicated()]\n",
    "print(\"Number of duplicated rows: \", duplicate_rows_df.shape)"
   ]
  },
  {
   "cell_type": "markdown",
   "metadata": {
    "azdata_cell_guid": "53e0cf94-c68a-4fa0-9849-9505a66bcce6"
   },
   "source": [
    "## Inconsistent Data\n",
    "\n",
    "Check for inconsistent data and address any that arises. As always, use code comments to illustrate your thought process."
   ]
  },
  {
   "cell_type": "code",
   "execution_count": 11,
   "metadata": {},
   "outputs": [
    {
     "data": {
      "text/plain": [
       "6746    ['Self Help', 'Spirituality', 'Philosophy', 'N...\n",
       "1922    ['Fiction', 'Novels', 'Drama', 'Epic', 'Contem...\n",
       "99      ['Classics', 'Fiction', 'Literature', 'Adventu...\n",
       "9381                                                  NaN\n",
       "3655    ['Picture Books', 'Childrens', 'Fiction', 'Cla...\n",
       "4562    ['Fiction', 'Christian Fiction', 'Christian', ...\n",
       "7420    ['Fantasy', 'Young Adult', 'Romance', 'Paranor...\n",
       "8721    ['Classics', 'Fiction', 'Literature', 'America...\n",
       "3971                                                  NaN\n",
       "8780    ['Fiction', 'Japan', 'Japanese Literature', 'C...\n",
       "Name: Genres, dtype: object"
      ]
     },
     "execution_count": 11,
     "metadata": {},
     "output_type": "execute_result"
    }
   ],
   "source": [
    "df['Genres'].sample(10)"
   ]
  },
  {
   "cell_type": "code",
   "execution_count": 12,
   "metadata": {
    "scrolled": true
   },
   "outputs": [
    {
     "data": {
      "text/html": [
       "<div>\n",
       "<style scoped>\n",
       "    .dataframe tbody tr th:only-of-type {\n",
       "        vertical-align: middle;\n",
       "    }\n",
       "\n",
       "    .dataframe tbody tr th {\n",
       "        vertical-align: top;\n",
       "    }\n",
       "\n",
       "    .dataframe thead th {\n",
       "        text-align: right;\n",
       "    }\n",
       "</style>\n",
       "<table border=\"1\" class=\"dataframe\">\n",
       "  <thead>\n",
       "    <tr style=\"text-align: right;\">\n",
       "      <th></th>\n",
       "      <th>Unnamed: 0</th>\n",
       "      <th>Genres</th>\n",
       "      <th>Avg_Rating</th>\n",
       "      <th>Num_Ratings</th>\n",
       "    </tr>\n",
       "  </thead>\n",
       "  <tbody>\n",
       "    <tr>\n",
       "      <th>0</th>\n",
       "      <td>0</td>\n",
       "      <td>['Classics', 'Fiction', 'Historical Fiction', ...</td>\n",
       "      <td>4.27</td>\n",
       "      <td>5,691,311</td>\n",
       "    </tr>\n",
       "    <tr>\n",
       "      <th>1</th>\n",
       "      <td>1</td>\n",
       "      <td>['Fantasy', 'Fiction', 'Young Adult', 'Magic',...</td>\n",
       "      <td>4.47</td>\n",
       "      <td>9,278,135</td>\n",
       "    </tr>\n",
       "    <tr>\n",
       "      <th>2</th>\n",
       "      <td>2</td>\n",
       "      <td>['Classics', 'Fiction', 'Romance', 'Historical...</td>\n",
       "      <td>4.28</td>\n",
       "      <td>3,944,155</td>\n",
       "    </tr>\n",
       "    <tr>\n",
       "      <th>3</th>\n",
       "      <td>3</td>\n",
       "      <td>['Classics', 'Nonfiction', 'History', 'Biograp...</td>\n",
       "      <td>4.18</td>\n",
       "      <td>3,488,438</td>\n",
       "    </tr>\n",
       "    <tr>\n",
       "      <th>4</th>\n",
       "      <td>4</td>\n",
       "      <td>['Classics', 'Fiction', 'Dystopia', 'Fantasy',...</td>\n",
       "      <td>3.98</td>\n",
       "      <td>3,575,172</td>\n",
       "    </tr>\n",
       "  </tbody>\n",
       "</table>\n",
       "</div>"
      ],
      "text/plain": [
       "   Unnamed: 0                                             Genres  Avg_Rating  \\\n",
       "0           0  ['Classics', 'Fiction', 'Historical Fiction', ...        4.27   \n",
       "1           1  ['Fantasy', 'Fiction', 'Young Adult', 'Magic',...        4.47   \n",
       "2           2  ['Classics', 'Fiction', 'Romance', 'Historical...        4.28   \n",
       "3           3  ['Classics', 'Nonfiction', 'History', 'Biograp...        4.18   \n",
       "4           4  ['Classics', 'Fiction', 'Dystopia', 'Fantasy',...        3.98   \n",
       "\n",
       "  Num_Ratings  \n",
       "0   5,691,311  \n",
       "1   9,278,135  \n",
       "2   3,944,155  \n",
       "3   3,488,438  \n",
       "4   3,575,172  "
      ]
     },
     "execution_count": 12,
     "metadata": {},
     "output_type": "execute_result"
    }
   ],
   "source": [
    "# make a new dataframe for data manipulation with ID, genres, avg rating, num of ratings\n",
    "df1 = df[['Unnamed: 0','Genres','Avg_Rating','Num_Ratings']].copy()\n",
    "df1.head()"
   ]
  },
  {
   "cell_type": "code",
   "execution_count": 13,
   "metadata": {},
   "outputs": [],
   "source": [
    "df1 = df1.rename(columns={\"Unnamed: 0\": \"ID\"})"
   ]
  },
  {
   "cell_type": "code",
   "execution_count": 14,
   "metadata": {},
   "outputs": [],
   "source": [
    "df1['Genres'] = df1['Genres'].str.split(',')"
   ]
  },
  {
   "cell_type": "code",
   "execution_count": 15,
   "metadata": {},
   "outputs": [
    {
     "data": {
      "text/html": [
       "<div>\n",
       "<style scoped>\n",
       "    .dataframe tbody tr th:only-of-type {\n",
       "        vertical-align: middle;\n",
       "    }\n",
       "\n",
       "    .dataframe tbody tr th {\n",
       "        vertical-align: top;\n",
       "    }\n",
       "\n",
       "    .dataframe thead th {\n",
       "        text-align: right;\n",
       "    }\n",
       "</style>\n",
       "<table border=\"1\" class=\"dataframe\">\n",
       "  <thead>\n",
       "    <tr style=\"text-align: right;\">\n",
       "      <th></th>\n",
       "      <th>ID</th>\n",
       "      <th>Genres</th>\n",
       "      <th>Avg_Rating</th>\n",
       "      <th>Num_Ratings</th>\n",
       "    </tr>\n",
       "  </thead>\n",
       "  <tbody>\n",
       "    <tr>\n",
       "      <th>0</th>\n",
       "      <td>0</td>\n",
       "      <td>['Classics'</td>\n",
       "      <td>4.27</td>\n",
       "      <td>5,691,311</td>\n",
       "    </tr>\n",
       "    <tr>\n",
       "      <th>0</th>\n",
       "      <td>0</td>\n",
       "      <td>'Fiction'</td>\n",
       "      <td>4.27</td>\n",
       "      <td>5,691,311</td>\n",
       "    </tr>\n",
       "    <tr>\n",
       "      <th>0</th>\n",
       "      <td>0</td>\n",
       "      <td>'Historical Fiction'</td>\n",
       "      <td>4.27</td>\n",
       "      <td>5,691,311</td>\n",
       "    </tr>\n",
       "    <tr>\n",
       "      <th>0</th>\n",
       "      <td>0</td>\n",
       "      <td>'School'</td>\n",
       "      <td>4.27</td>\n",
       "      <td>5,691,311</td>\n",
       "    </tr>\n",
       "    <tr>\n",
       "      <th>0</th>\n",
       "      <td>0</td>\n",
       "      <td>'Literature'</td>\n",
       "      <td>4.27</td>\n",
       "      <td>5,691,311</td>\n",
       "    </tr>\n",
       "    <tr>\n",
       "      <th>...</th>\n",
       "      <td>...</td>\n",
       "      <td>...</td>\n",
       "      <td>...</td>\n",
       "      <td>...</td>\n",
       "    </tr>\n",
       "    <tr>\n",
       "      <th>9998</th>\n",
       "      <td>9998</td>\n",
       "      <td>['New Adult'</td>\n",
       "      <td>4.13</td>\n",
       "      <td>263</td>\n",
       "    </tr>\n",
       "    <tr>\n",
       "      <th>9998</th>\n",
       "      <td>9998</td>\n",
       "      <td>'Romance'</td>\n",
       "      <td>4.13</td>\n",
       "      <td>263</td>\n",
       "    </tr>\n",
       "    <tr>\n",
       "      <th>9998</th>\n",
       "      <td>9998</td>\n",
       "      <td>'Contemporary Romance'</td>\n",
       "      <td>4.13</td>\n",
       "      <td>263</td>\n",
       "    </tr>\n",
       "    <tr>\n",
       "      <th>9998</th>\n",
       "      <td>9998</td>\n",
       "      <td>'Contemporary']</td>\n",
       "      <td>4.13</td>\n",
       "      <td>263</td>\n",
       "    </tr>\n",
       "    <tr>\n",
       "      <th>9999</th>\n",
       "      <td>9999</td>\n",
       "      <td>NaN</td>\n",
       "      <td>5.00</td>\n",
       "      <td>36</td>\n",
       "    </tr>\n",
       "  </tbody>\n",
       "</table>\n",
       "<p>58923 rows × 4 columns</p>\n",
       "</div>"
      ],
      "text/plain": [
       "        ID                   Genres  Avg_Rating Num_Ratings\n",
       "0        0              ['Classics'        4.27   5,691,311\n",
       "0        0                'Fiction'        4.27   5,691,311\n",
       "0        0     'Historical Fiction'        4.27   5,691,311\n",
       "0        0                 'School'        4.27   5,691,311\n",
       "0        0             'Literature'        4.27   5,691,311\n",
       "...    ...                      ...         ...         ...\n",
       "9998  9998             ['New Adult'        4.13         263\n",
       "9998  9998                'Romance'        4.13         263\n",
       "9998  9998   'Contemporary Romance'        4.13         263\n",
       "9998  9998          'Contemporary']        4.13         263\n",
       "9999  9999                      NaN        5.00          36\n",
       "\n",
       "[58923 rows x 4 columns]"
      ]
     },
     "execution_count": 15,
     "metadata": {},
     "output_type": "execute_result"
    }
   ],
   "source": [
    "df1 = df1.explode('Genres')\n",
    "df1"
   ]
  },
  {
   "cell_type": "code",
   "execution_count": 16,
   "metadata": {
    "scrolled": true
   },
   "outputs": [
    {
     "name": "stderr",
     "output_type": "stream",
     "text": [
      "C:\\Users\\johan\\AppData\\Local\\Temp\\ipykernel_11104\\2532118343.py:2: FutureWarning: The default value of regex will change from True to False in a future version. In addition, single character regular expressions will *not* be treated as literal strings when regex=True.\n",
      "  df1['Genres']=df1['Genres'].str.replace('[','')\n",
      "C:\\Users\\johan\\AppData\\Local\\Temp\\ipykernel_11104\\2532118343.py:3: FutureWarning: The default value of regex will change from True to False in a future version. In addition, single character regular expressions will *not* be treated as literal strings when regex=True.\n",
      "  df1['Genres']=df1['Genres'].str.replace(']','')\n"
     ]
    },
    {
     "data": {
      "text/html": [
       "<div>\n",
       "<style scoped>\n",
       "    .dataframe tbody tr th:only-of-type {\n",
       "        vertical-align: middle;\n",
       "    }\n",
       "\n",
       "    .dataframe tbody tr th {\n",
       "        vertical-align: top;\n",
       "    }\n",
       "\n",
       "    .dataframe thead th {\n",
       "        text-align: right;\n",
       "    }\n",
       "</style>\n",
       "<table border=\"1\" class=\"dataframe\">\n",
       "  <thead>\n",
       "    <tr style=\"text-align: right;\">\n",
       "      <th></th>\n",
       "      <th>ID</th>\n",
       "      <th>Genres</th>\n",
       "      <th>Avg_Rating</th>\n",
       "      <th>Num_Ratings</th>\n",
       "    </tr>\n",
       "  </thead>\n",
       "  <tbody>\n",
       "    <tr>\n",
       "      <th>0</th>\n",
       "      <td>0</td>\n",
       "      <td>Classics</td>\n",
       "      <td>4.27</td>\n",
       "      <td>5,691,311</td>\n",
       "    </tr>\n",
       "    <tr>\n",
       "      <th>0</th>\n",
       "      <td>0</td>\n",
       "      <td>Fiction</td>\n",
       "      <td>4.27</td>\n",
       "      <td>5,691,311</td>\n",
       "    </tr>\n",
       "    <tr>\n",
       "      <th>0</th>\n",
       "      <td>0</td>\n",
       "      <td>Historical Fiction</td>\n",
       "      <td>4.27</td>\n",
       "      <td>5,691,311</td>\n",
       "    </tr>\n",
       "    <tr>\n",
       "      <th>0</th>\n",
       "      <td>0</td>\n",
       "      <td>School</td>\n",
       "      <td>4.27</td>\n",
       "      <td>5,691,311</td>\n",
       "    </tr>\n",
       "    <tr>\n",
       "      <th>0</th>\n",
       "      <td>0</td>\n",
       "      <td>Literature</td>\n",
       "      <td>4.27</td>\n",
       "      <td>5,691,311</td>\n",
       "    </tr>\n",
       "    <tr>\n",
       "      <th>...</th>\n",
       "      <td>...</td>\n",
       "      <td>...</td>\n",
       "      <td>...</td>\n",
       "      <td>...</td>\n",
       "    </tr>\n",
       "    <tr>\n",
       "      <th>9998</th>\n",
       "      <td>9998</td>\n",
       "      <td>New Adult</td>\n",
       "      <td>4.13</td>\n",
       "      <td>263</td>\n",
       "    </tr>\n",
       "    <tr>\n",
       "      <th>9998</th>\n",
       "      <td>9998</td>\n",
       "      <td>Romance</td>\n",
       "      <td>4.13</td>\n",
       "      <td>263</td>\n",
       "    </tr>\n",
       "    <tr>\n",
       "      <th>9998</th>\n",
       "      <td>9998</td>\n",
       "      <td>Contemporary Romance</td>\n",
       "      <td>4.13</td>\n",
       "      <td>263</td>\n",
       "    </tr>\n",
       "    <tr>\n",
       "      <th>9998</th>\n",
       "      <td>9998</td>\n",
       "      <td>Contemporary</td>\n",
       "      <td>4.13</td>\n",
       "      <td>263</td>\n",
       "    </tr>\n",
       "    <tr>\n",
       "      <th>9999</th>\n",
       "      <td>9999</td>\n",
       "      <td>NaN</td>\n",
       "      <td>5.00</td>\n",
       "      <td>36</td>\n",
       "    </tr>\n",
       "  </tbody>\n",
       "</table>\n",
       "<p>58923 rows × 4 columns</p>\n",
       "</div>"
      ],
      "text/plain": [
       "        ID                Genres  Avg_Rating Num_Ratings\n",
       "0        0              Classics        4.27   5,691,311\n",
       "0        0               Fiction        4.27   5,691,311\n",
       "0        0    Historical Fiction        4.27   5,691,311\n",
       "0        0                School        4.27   5,691,311\n",
       "0        0            Literature        4.27   5,691,311\n",
       "...    ...                   ...         ...         ...\n",
       "9998  9998             New Adult        4.13         263\n",
       "9998  9998               Romance        4.13         263\n",
       "9998  9998  Contemporary Romance        4.13         263\n",
       "9998  9998          Contemporary        4.13         263\n",
       "9999  9999                   NaN        5.00          36\n",
       "\n",
       "[58923 rows x 4 columns]"
      ]
     },
     "execution_count": 16,
     "metadata": {},
     "output_type": "execute_result"
    }
   ],
   "source": [
    "# clean the column to remove unnecessary punctuation\n",
    "df1['Genres']=df1['Genres'].str.replace('[','')\n",
    "df1['Genres']=df1['Genres'].str.replace(']','')\n",
    "df1['Genres']=df1['Genres'].str.replace(\"'\",'')\n",
    "df1['Genres']=df1['Genres'].str.replace(\"'\",'')\n",
    "df1['Genres']=df1['Genres'].str.strip()\n",
    "# check to make sure that worked\n",
    "df1"
   ]
  },
  {
   "cell_type": "code",
   "execution_count": 17,
   "metadata": {},
   "outputs": [
    {
     "name": "stdout",
     "output_type": "stream",
     "text": [
      "ID - 0%\n",
      "Genres - 2%\n",
      "Avg_Rating - 0%\n",
      "Num_Ratings - 0%\n"
     ]
    }
   ],
   "source": [
    "# check how much Genres data is missing\n",
    "for col in df1.columns:\n",
    "    pct_missing = np.mean(df1[col].isnull())\n",
    "    print('{} - {}%'.format(col, round(pct_missing*100)))"
   ]
  },
  {
   "cell_type": "code",
   "execution_count": 18,
   "metadata": {
    "scrolled": true
   },
   "outputs": [],
   "source": [
    "# now we can remove missing data\n",
    "df1.dropna(subset=['Genres'], inplace=True)"
   ]
  },
  {
   "cell_type": "code",
   "execution_count": 19,
   "metadata": {},
   "outputs": [
    {
     "data": {
      "text/plain": [
       "(57963, 4)"
      ]
     },
     "execution_count": 19,
     "metadata": {},
     "output_type": "execute_result"
    }
   ],
   "source": [
    "# check shape\n",
    "df1.shape"
   ]
  },
  {
   "cell_type": "code",
   "execution_count": 20,
   "metadata": {},
   "outputs": [],
   "source": [
    "# select subsection of df1 where avg_rating is greater than or equal to 4.5\n",
    "df2 = df1[(df1['Avg_Rating'] >= 4.3)]"
   ]
  },
  {
   "cell_type": "code",
   "execution_count": 21,
   "metadata": {
    "scrolled": false
   },
   "outputs": [
    {
     "data": {
      "text/plain": [
       "(8602, 4)"
      ]
     },
     "execution_count": 21,
     "metadata": {},
     "output_type": "execute_result"
    }
   ],
   "source": [
    "df2.shape"
   ]
  },
  {
   "cell_type": "code",
   "execution_count": 22,
   "metadata": {
    "scrolled": false
   },
   "outputs": [
    {
     "name": "stderr",
     "output_type": "stream",
     "text": [
      "C:\\Users\\johan\\AppData\\Local\\Temp\\ipykernel_11104\\3108735582.py:1: SettingWithCopyWarning: \n",
      "A value is trying to be set on a copy of a slice from a DataFrame.\n",
      "Try using .loc[row_indexer,col_indexer] = value instead\n",
      "\n",
      "See the caveats in the documentation: https://pandas.pydata.org/pandas-docs/stable/user_guide/indexing.html#returning-a-view-versus-a-copy\n",
      "  df2[\"Num_Ratings\"] = df2[\"Num_Ratings\"].str.replace(',','')\n",
      "C:\\Users\\johan\\AppData\\Local\\Temp\\ipykernel_11104\\3108735582.py:2: SettingWithCopyWarning: \n",
      "A value is trying to be set on a copy of a slice from a DataFrame.\n",
      "Try using .loc[row_indexer,col_indexer] = value instead\n",
      "\n",
      "See the caveats in the documentation: https://pandas.pydata.org/pandas-docs/stable/user_guide/indexing.html#returning-a-view-versus-a-copy\n",
      "  df2[\"Num_Ratings\"] = df2[\"Num_Ratings\"].astype(int)\n"
     ]
    }
   ],
   "source": [
    "df2[\"Num_Ratings\"] = df2[\"Num_Ratings\"].str.replace(',','')\n",
    "df2[\"Num_Ratings\"] = df2[\"Num_Ratings\"].astype(int)"
   ]
  },
  {
   "cell_type": "code",
   "execution_count": 23,
   "metadata": {},
   "outputs": [],
   "source": [
    "# select where num_ratings is greater than 100 (i.e., statistically significant)\n",
    "df3 = df2[(df2['Num_Ratings'] >= 100)]"
   ]
  },
  {
   "cell_type": "code",
   "execution_count": 24,
   "metadata": {},
   "outputs": [
    {
     "data": {
      "text/plain": [
       "(7911, 4)"
      ]
     },
     "execution_count": 24,
     "metadata": {},
     "output_type": "execute_result"
    }
   ],
   "source": [
    "df3.shape"
   ]
  },
  {
   "cell_type": "code",
   "execution_count": 25,
   "metadata": {
    "scrolled": false
   },
   "outputs": [
    {
     "data": {
      "text/plain": [
       "Fiction               719\n",
       "Nonfiction            375\n",
       "Fantasy               370\n",
       "Classics              265\n",
       "Young Adult           206\n",
       "Romance               203\n",
       "Historical Fiction    193\n",
       "Audiobook             180\n",
       "History               175\n",
       "Contemporary          164\n",
       "Historical            144\n",
       "Novels                140\n",
       "Biography             130\n",
       "Adventure             128\n",
       "Childrens             118\n",
       "Literature            102\n",
       "Adult                 102\n",
       "Religion              101\n",
       "Memoir                 97\n",
       "Philosophy             96\n",
       "War                    84\n",
       "Science Fiction        82\n",
       "Mystery                82\n",
       "Drama                  81\n",
       "Politics               80\n",
       "Name: Genres, dtype: int64"
      ]
     },
     "execution_count": 25,
     "metadata": {},
     "output_type": "execute_result"
    }
   ],
   "source": [
    "df3['Genres'].value_counts().head(25)"
   ]
  },
  {
   "cell_type": "code",
   "execution_count": 26,
   "metadata": {
    "scrolled": true
   },
   "outputs": [],
   "source": [
    "# convert df3 to a csv file for Tableau work\n",
    "df3.to_csv(\"goodreads_cleaned.csv\", index=False)"
   ]
  },
  {
   "cell_type": "markdown",
   "metadata": {
    "azdata_cell_guid": "dedc0bfe-17d0-40b2-914f-2ddb54f9ce0d"
   },
   "source": [
    "## Summarize Your Results\n",
    "\n",
    "Make note of your answers to the following questions.\n",
    "\n",
    "1. Did you find all four types of dirty data in your dataset? Yes!\n",
    "2. Did the process of cleaning your data give you new insights into your dataset? 100%. I was able to make a new dataframe with books with average ratings greater than 4.3 and more than at least 100 ratings to draw insights about successful books.\n",
    "3. Is there anything you would like to make note of when it comes to manipulating the data and making visualizations? The 4.3 average rating criteria was something I came up with on my own, but theoretically the same process could be followed for any specific rating (e.g., >4.5). "
   ]
  }
 ],
 "metadata": {
  "kernelspec": {
   "display_name": "Python 3 (ipykernel)",
   "language": "python",
   "name": "python3"
  },
  "language_info": {
   "codemirror_mode": {
    "name": "ipython",
    "version": 3
   },
   "file_extension": ".py",
   "mimetype": "text/x-python",
   "name": "python",
   "nbconvert_exporter": "python",
   "pygments_lexer": "ipython3",
   "version": "3.10.9"
  }
 },
 "nbformat": 4,
 "nbformat_minor": 2
}
